{
  "cells": [
    {
      "cell_type": "code",
      "execution_count": 4,
      "metadata": {
        "id": "oxiZ42B4SwQ-"
      },
      "outputs": [],
      "source": [
        "%matplotlib inline\n",
        "\n",
        "import numpy as np\n",
        "from matplotlib import pyplot as plt\n",
        "import time\n",
        "import os\n",
        "import torch\n",
        "import torch.nn as nn\n",
        "from torch.autograd import Variable\n",
        "from torch.utils.data import Dataset, DataLoader\n",
        "from helper import test_prediction, test_generation"
      ]
    },
    {
      "cell_type": "code",
      "execution_count": 5,
      "metadata": {
        "id": "x5znxQhLSwRC"
      },
      "outputs": [],
      "source": [
        "# load all that we need\n",
        "\n",
        "dataset = np.load('data/wiki.train.npy', allow_pickle=True)\n",
        "devset = np.load('data/wiki.valid.npy', allow_pickle=True)\n",
        "inference_pred = np.load('inference/prediction.npz')  # dev\n",
        "inference_gen = np.load('inference/generation.npy')  # dev\n",
        "inference_pred_test = np.load('inference/prediction_test.npz')  # test\n",
        "inference_gen_test = np.load('inference/generation_test.npy')  # test\n",
        "vocab = np.load('data/vocab.npy')"
      ]
    },
    {
      "cell_type": "code",
      "execution_count": 10,
      "metadata": {
        "colab": {
          "base_uri": "https://localhost:8080/"
        },
        "id": "eCzNynwGYlJ0",
        "outputId": "5b0ef7c6-ff0b-48e8-8016-b451b3c330e1"
      },
      "outputs": [
        {
          "data": {
            "text/plain": [
              "33278"
            ]
          },
          "execution_count": 10,
          "metadata": {},
          "output_type": "execute_result"
        }
      ],
      "source": [
        "len(vocab)"
      ]
    },
    {
      "cell_type": "code",
      "execution_count": 17,
      "metadata": {
        "colab": {
          "base_uri": "https://localhost:8080/"
        },
        "id": "M-GQuKGEnBB_",
        "outputId": "cb536c4e-a817-4bcd-c1e0-ec2c4d50a0bd"
      },
      "outputs": [
        {
          "name": "stdout",
          "output_type": "stream",
          "text": [
            "(579,)\n",
            "(3803,)\n"
          ]
        }
      ],
      "source": [
        "\n",
        "print(dataset.shape) #579 articles\n",
        "print(dataset[0].shape) #no. of words in articles"
      ]
    },
    {
      "cell_type": "code",
      "execution_count": 18,
      "metadata": {
        "id": "OZNrJ8XvSwRF"
      },
      "outputs": [],
      "source": [
        "\n",
        "class LanguageModelDataLoader(DataLoader):\n",
        "    def __init__(self, dataset, batch_size, shuffle=True):\n",
        "        \n",
        "        self.dataset = dataset\n",
        "        self.batch_size = batch_size\n",
        "        self.shuffle = shuffle\n",
        "        \n",
        "        self.seq = 60\n",
        "\n",
        "    def __iter__(self):\n",
        "\n",
        "        def get_seq_len(seq_l):\n",
        "            if np.random.random() < 0.95:\n",
        "                seq_len = seq_l\n",
        "            else:\n",
        "                seq_len = seq_l/2\n",
        "            seq_len = round(np.random.normal(seq_len, 5))\n",
        "            return seq_len\n",
        "\n",
        "        \n",
        "        if self.shuffle == True:\n",
        "            np.random.shuffle(self.dataset)\n",
        "\n",
        "        \n",
        "        new_shuffled_conncat_dataset = np.concatenate(self.dataset)\n",
        "        print(new_shuffled_conncat_dataset)\n",
        "\n",
        "        self.no_of_batches = (len(new_shuffled_conncat_dataset)-1)//self.batch_size \n",
        "\n",
        "\n",
        "\n",
        "        no_of_elements = self.batch_size *self.seq \n",
        "\n",
        "        \n",
        "        \n",
        "        for i in range(self.no_of_batches):\n",
        "          no_of_elements = self.batch_size *self.seq \n",
        "\n",
        "          try:\n",
        "            x = new_shuffled_conncat_dataset[i*no_of_elements:i*no_of_elements+no_of_elements]\n",
        "            y = new_shuffled_conncat_dataset[(i*no_of_elements)+1:i*no_of_elements+no_of_elements+1]# X-> 2dim\n",
        "            \n",
        "            x = np.array(x).reshape(self.batch_size,self.seq)\n",
        "            y = np.array(y).reshape(self.batch_size,self.seq)\n",
        "\n",
        "            yield (torch.LongTensor(x),torch.LongTensor(y))\n",
        "          except:\n",
        "            pass\n",
        "    "
      ]
    },
    {
      "cell_type": "code",
      "execution_count": 25,
      "metadata": {
        "colab": {
          "base_uri": "https://localhost:8080/"
        },
        "id": "KieWV1ZdnBCC",
        "outputId": "d2d3da7a-d9e6-4f91-f78d-b52d1b75fe23"
      },
      "outputs": [
        {
          "name": "stderr",
          "output_type": "stream",
          "text": [
            "Exception ignored in: <generator object LanguageModelDataLoader.__iter__ at 0x7efb6c783580>\n",
            "Traceback (most recent call last):\n",
            "  File \"<ipython-input-25-a9eed6438260>\", line 14, in <cell line: 3>\n",
            "RuntimeError: generator ignored GeneratorExit\n"
          ]
        },
        {
          "name": "stdout",
          "output_type": "stream",
          "text": [
            "[ 1420  3170 12031 ... 17323    79  1417]\n",
            "X: \n",
            "torch.Size([64, 60])\n",
            "tensor([ 1420,  3170, 12031,    72, 13276, 10073,    73,  1420,  1417,     1,\n",
            "         3170, 12031,     1, 23592, 31353, 29496, 20398, 25821, 31353, 31422,\n",
            "        29294, 25821, 31353,  1822, 17716, 31244, 29456, 13276, 10073,    76,\n",
            "        15340, 31353, 29649,    64, 21511,  1424, 21107, 20398, 26120,    79,\n",
            "        14444, 16802,  2997,  5698,    76, 15340, 19338, 16802,  3116, 31353,\n",
            "        13864, 12489, 15340,  5584, 18510,  7565, 14242,    76, 31353, 20398])\n",
            "['=', 'Business', 'School', '(', 'The', 'Office', ')', '=', '<eol>', '\"', 'Business', 'School', '\"', 'is', 'the', 'seventeenth', 'episode', 'of', 'the', 'third', 'season', 'of', 'the', 'American', 'comedy', 'television', 'series', 'The', 'Office', ',', 'and', 'the', 'show', \"'s\", 'forty', '@-@', 'fifth', 'episode', 'overall', '.', 'Written', 'by', 'Brent', 'Forrester', ',', 'and', 'directed', 'by', 'Buffy', 'the', 'Vampire', 'Slayer', 'and', 'Firefly', 'creator', 'Joss', 'Whedon', ',', 'the', 'episode']\n",
            "Y: \n",
            "torch.Size([64, 60])\n",
            "tensor([ 3170, 12031,    72, 13276, 10073,    73,  1420,  1417,     1,  3170,\n",
            "        12031,     1, 23592, 31353, 29496, 20398, 25821, 31353, 31422, 29294,\n",
            "        25821, 31353,  1822, 17716, 31244, 29456, 13276, 10073,    76, 15340,\n",
            "        31353, 29649,    64, 21511,  1424, 21107, 20398, 26120,    79, 14444,\n",
            "        16802,  2997,  5698,    76, 15340, 19338, 16802,  3116, 31353, 13864,\n",
            "        12489, 15340,  5584, 18510,  7565, 14242,    76, 31353, 20398, 15109])\n",
            "['Business', 'School', '(', 'The', 'Office', ')', '=', '<eol>', '\"', 'Business', 'School', '\"', 'is', 'the', 'seventeenth', 'episode', 'of', 'the', 'third', 'season', 'of', 'the', 'American', 'comedy', 'television', 'series', 'The', 'Office', ',', 'and', 'the', 'show', \"'s\", 'forty', '@-@', 'fifth', 'episode', 'overall', '.', 'Written', 'by', 'Brent', 'Forrester', ',', 'and', 'directed', 'by', 'Buffy', 'the', 'Vampire', 'Slayer', 'and', 'Firefly', 'creator', 'Joss', 'Whedon', ',', 'the', 'episode', 'aired']\n"
          ]
        }
      ],
      "source": [
        "DL= LanguageModelDataLoader(dataset=dataset, batch_size=64, shuffle=True)\n",
        "for data in DL:\n",
        "    x,y = data\n",
        "    print('X: ')\n",
        "    print(x.shape)\n",
        "    print(x[0,:])\n",
        "    print([vocab[i] for i in x[0,:]])\n",
        "    print('Y: ')\n",
        "    print(x.shape)\n",
        "    print(y[0,:])\n",
        "    print([vocab[i] for i in y[0,:]])\n",
        "    break"
      ]
    },
    {
      "cell_type": "code",
      "execution_count": 27,
      "metadata": {
        "id": "0AAtI_40nBCE"
      },
      "outputs": [],
      "source": [
        "class LockedDropout(nn.Module):\n",
        "\n",
        "\n",
        "    def __init__(self, p=0.5):\n",
        "        self.p = p\n",
        "        super().__init__()\n",
        "    def forward(self, x):\n",
        "        \"\"\"\n",
        "        Args:\n",
        "            x (:class:`torch.FloatTensor` [batch size, sequence length, rnn hidden size]): Input to\n",
        "                apply dropout too.\n",
        "        \"\"\"\n",
        "        if not self.training or not self.p:\n",
        "            return x\n",
        "        x = x.clone()\n",
        "        mask = x.new_empty(x.size(0),1, x.size(2), requires_grad=False).bernoulli_(1 - self.p)\n",
        "        mask = mask.div_(1 - self.p)\n",
        "        mask = mask.expand_as(x)\n",
        "        return x * mask\n"
      ]
    },
    {
      "cell_type": "code",
      "execution_count": null,
      "metadata": {
        "id": "Zt-7YsTYSwRI"
      },
      "outputs": [],
      "source": [
        "\n",
        "\n",
        "class LanguageModel(nn.Module):\n",
        "    def __init__(self, vocab_size):\n",
        "        super(LanguageModel, self).__init__()\n",
        "        \n",
        "        self.embedding = nn.Embedding(num_embeddings = vocab_size, embedding_dim = 512)\n",
        "        \n",
        "        self.lstm = nn.LSTM(hidden_size = 512, batch_first = True, num_layers =1, input_size = 512)\n",
        "\n",
        "        self.lock_drop = LockedDropout(p=0.3)\n",
        "\n",
        "        self.classification = nn.Linear(512, vocab_size)\n",
        "\n",
        "    def forward(self, x, h = None):\n",
        "\n",
        "        embedding1 = self.embedding(x)\n",
        "                \n",
        "        \n",
        "        if h == None:\n",
        "            embedding1, out2 = self.lstm(embedding1)\n",
        "        else:\n",
        "            embedding1, out2 = self.lstm(embedding1, h)\n",
        "        \n",
        "        x = self.lock_drop(embedding1)\n",
        "\n",
        "        embedding2, out2 = self.lstm(x, out2)\n",
        "\n",
        "        x = self.lock_drop(embedding2)\n",
        "\n",
        "        embedding3, out2 = self.lstm(x, out2)\n",
        "        \n",
        "        out = self.classification(embedding3)\n",
        "        \n",
        "        \n",
        "        return out, out2\n",
        "\n",
        "\n",
        "    \n"
      ]
    },
    {
      "cell_type": "code",
      "execution_count": null,
      "metadata": {
        "id": "kIvZOIfjSwRK"
      },
      "outputs": [],
      "source": [
        "\n",
        "\n",
        "class LanguageModelTrainer:\n",
        "    def __init__(self, model, loader, max_epochs=1, run_id='exp'):\n",
        "\n",
        "        self.model = model\n",
        "        self.loader = loader\n",
        "        self.train_losses = []\n",
        "        self.val_losses = []\n",
        "        self.predictions = []\n",
        "        self.predictions_test = []\n",
        "        self.generated_logits = []\n",
        "        self.generated = []\n",
        "        self.generated_logits_test = []\n",
        "        self.generated_test = []\n",
        "        self.epochs = 0\n",
        "        self.max_epochs = max_epochs\n",
        "        self.run_id = run_id\n",
        "        \n",
        "        # Define optimizer and criterion here\n",
        "        self.optimizer = torch.optim.Adam(model.parameters(),lr=0.002, weight_decay=3e-6)\n",
        "        self.criterion = nn.CrossEntropyLoss()\n",
        "        \n",
        "    def train(self):\n",
        "        self.model.train() # set to training mode\n",
        "        epoch_loss = 0\n",
        "        \n",
        "        for batch_num, (inputs, targets) in enumerate(self.loader):\n",
        "            epoch_loss += self.train_batch(inputs, targets)\n",
        "        epoch_loss = epoch_loss / (batch_num + 1)\n",
        "        self.epochs += 1\n",
        "        print('[TRAIN]  Epoch [%d/%d]   Loss: %.4f'\n",
        "                      % (self.epochs + 1, self.max_epochs, epoch_loss))\n",
        "        self.train_losses.append(epoch_loss)\n",
        "\n",
        "    def train_batch(self, inputs, targets):\n",
        "        # zero the parameter gradients\n",
        "\n",
        "        inputs = (inputs).cuda()\n",
        "        targets = (targets).cuda()\n",
        "\n",
        "        self.optimizer.zero_grad()\n",
        "        \n",
        "        outputs, h  = self.model(inputs)\n",
        "\n",
        "        outputs1 = outputs.view(-1, outputs.size(2))\n",
        "        targets1 = targets.view(-1)\n",
        "        \n",
        "        loss = self.criterion(outputs1, targets1) \n",
        "        loss.backward()\n",
        "        self.optimizer.step()\n",
        "        \n",
        "        \n",
        "        return loss\n",
        " \n",
        "        \n",
        "\n",
        "    \n",
        "    def test(self):\n",
        "        # don't change these\n",
        "        self.model.eval() # set to eval mode\n",
        "\n",
        "        predictions = TestLanguageModel.prediction(inference_pred['inp'], self.model) # get predictions\n",
        "        self.predictions.append(predictions)\n",
        "\n",
        "        nll = test_prediction(predictions, inference_pred['out'])\n",
        "        self.val_losses.append(nll)\n",
        "\n",
        "        generated_logits = TestLanguageModel.generation(inference_gen, 10, self.model) # generated predictions for 10 words\n",
        "        self.generated_logits.append(generated_logits)\n",
        "        generated = test_generation(inference_gen, generated_logits, vocab)\n",
        "        self.generated.append(generated)\n",
        "\n",
        "        #TEST\n",
        "        # generate predictions for test data\n",
        "        predictions_test = TestLanguageModel.prediction(inference_pred_test['inp'], self.model) # get predictions\n",
        "        self.predictions_test.append(predictions_test)\n",
        "\n",
        "        generated_logits_test = TestLanguageModel.generation(inference_gen_test, 10, self.model)\n",
        "        generated_test = test_generation(inference_gen_test, generated_logits_test, vocab)\n",
        "        self.generated_logits_test.append(generated_logits_test)\n",
        "        self.generated_test.append(generated_test)\n",
        "        \n",
        "    \n",
        "        print('[VAL]  Epoch [%d/%d]   Loss: %.4f'\n",
        "                      % (self.epochs + 1, self.max_epochs, nll))\n",
        "        return nll\n",
        "\n",
        "\n",
        "    def save(self):\n",
        "        # don't change these\n",
        "        model_path = os.path.join('experiments', self.run_id, 'model-{}.pkl'.format(self.epochs))\n",
        "        torch.save({'state_dict': self.model.state_dict()},\n",
        "            model_path)\n",
        "        np.save(os.path.join('experiments', self.run_id, 'predictions-{}.npy'.format(self.epochs)), self.predictions[-1])\n",
        "        np.save(os.path.join('experiments', self.run_id, 'predictions-test-{}.npy'.format(self.epochs)), self.predictions_test[-1])\n",
        "        np.save(os.path.join('experiments', self.run_id, 'generated_logits-{}.npy'.format(self.epochs)), self.generated_logits[-1])\n",
        "        np.save(os.path.join('experiments', self.run_id, 'generated_logits-test-{}.npy'.format(self.epochs)), self.generated_logits_test[-1])\n",
        "        with open(os.path.join('experiments', self.run_id, 'generated-{}.txt'.format(self.epochs)), 'w') as fw:\n",
        "            fw.write(self.generated[-1])\n",
        "        with open(os.path.join('experiments', self.run_id, 'generated-{}-test.txt'.format(self.epochs)), 'w') as fw:\n",
        "            fw.write(self.generated_test[-1])\n"
      ]
    },
    {
      "cell_type": "code",
      "execution_count": null,
      "metadata": {
        "id": "xPI7_kZRSwRN"
      },
      "outputs": [],
      "source": [
        "class TestLanguageModel:\n",
        "    def prediction(inp, model):\n",
        "\n",
        "        inp = torch.LongTensor(inp).cuda()\n",
        "        out, h= model(inp)\n",
        "\n",
        "        return out[:,-1].cpu().detach().numpy()\n",
        "        \n",
        "\n",
        "        \n",
        "    def generation(inp, forward, model):\n",
        "        \"\"\"\n",
        "            Generate a sequence of words given a starting sequence.\n",
        "            inp: Initial sequence of words (batch size, length)\n",
        "            forward: number of additional words to generate\n",
        "            generated words (batch size, forward)\n",
        "        \"\"\"    \n",
        "        \n",
        "        gen_words = []\n",
        "\n",
        "        inp = torch.LongTensor(inp).cuda()\n",
        "\n",
        "        \n",
        "        for i in range(forward):\n",
        "            if i ==0:\n",
        "                word, h = model(inp) \n",
        "                word = torch.argmax(word, dim=2)[:,-1].unsqueeze(1)\n",
        "                gen_words.append(word)\n",
        "\n",
        "            else:\n",
        "                \n",
        "                word, h = model(word, h)\n",
        "                word = torch.argmax(word, dim=2)[:,-1].unsqueeze(1)\n",
        "                gen_words.append(word)\n",
        "                \n",
        "                \n",
        "        return torch.cat(gen_words,dim=1).cpu().detach().numpy()\n",
        "        \n",
        "        "
      ]
    },
    {
      "cell_type": "code",
      "execution_count": null,
      "metadata": {
        "id": "TiUrjbEjSwRQ"
      },
      "outputs": [],
      "source": [
        "\n",
        "\n",
        "NUM_EPOCHS = 25\n",
        "BATCH_SIZE = 64\n"
      ]
    },
    {
      "cell_type": "code",
      "execution_count": null,
      "metadata": {
        "colab": {
          "base_uri": "https://localhost:8080/"
        },
        "id": "2HCVG5YISwRW",
        "outputId": "54a94616-c810-49b3-87ee-6e44f9f894ce"
      },
      "outputs": [],
      "source": [
        "run_id = str(int(time.time()))\n",
        "if not os.path.exists('./experiments'):\n",
        "    os.mkdir('./experiments')\n",
        "os.mkdir('./experiments/%s' % run_id)\n",
        "print(\"Saving models, predictions, and generated words to ./experiments/%s\" % run_id)"
      ]
    },
    {
      "cell_type": "code",
      "execution_count": null,
      "metadata": {
        "id": "DbHH6zXTSwRa"
      },
      "outputs": [],
      "source": [
        "model = LanguageModel(len(vocab)).cuda()\n",
        "loader = LanguageModelDataLoader(dataset=dataset, batch_size=BATCH_SIZE, shuffle=True)\n",
        "trainer = LanguageModelTrainer(model=model, loader=loader, max_epochs=NUM_EPOCHS, run_id=run_id)"
      ]
    },
    {
      "cell_type": "code",
      "execution_count": null,
      "metadata": {
        "colab": {
          "base_uri": "https://localhost:8080/"
        },
        "id": "7D8wTJkBSwRc",
        "outputId": "8450b3fd-383b-4727-f7b7-3c2ceeb8ecc1"
      },
      "outputs": [
        {
          "name": "stdout",
          "output_type": "stream",
          "text": [
            "[TRAIN]  Epoch [2/25]   Loss: 7.2971\n",
            "[VAL]  Epoch [2/25]   Loss: 6.0067\n",
            "Saving model, predictions and generated output for epoch 0 with NLL: 6.0067115\n",
            "[TRAIN]  Epoch [3/25]   Loss: 6.2330\n",
            "[VAL]  Epoch [3/25]   Loss: 5.2680\n",
            "Saving model, predictions and generated output for epoch 1 with NLL: 5.2679806\n",
            "[TRAIN]  Epoch [4/25]   Loss: 5.8317\n",
            "[VAL]  Epoch [4/25]   Loss: 5.0538\n",
            "Saving model, predictions and generated output for epoch 2 with NLL: 5.053804\n",
            "[TRAIN]  Epoch [5/25]   Loss: 5.5716\n",
            "[VAL]  Epoch [5/25]   Loss: 4.9065\n",
            "Saving model, predictions and generated output for epoch 3 with NLL: 4.906543\n",
            "[TRAIN]  Epoch [6/25]   Loss: 5.3619\n",
            "[VAL]  Epoch [6/25]   Loss: 4.7839\n",
            "Saving model, predictions and generated output for epoch 4 with NLL: 4.78391\n",
            "[TRAIN]  Epoch [7/25]   Loss: 5.1894\n",
            "[VAL]  Epoch [7/25]   Loss: 4.6533\n",
            "Saving model, predictions and generated output for epoch 5 with NLL: 4.6532893\n",
            "[TRAIN]  Epoch [8/25]   Loss: 5.0315\n",
            "[VAL]  Epoch [8/25]   Loss: 4.7075\n",
            "[TRAIN]  Epoch [9/25]   Loss: 4.8962\n",
            "[VAL]  Epoch [9/25]   Loss: 4.6241\n",
            "Saving model, predictions and generated output for epoch 7 with NLL: 4.624115\n",
            "[TRAIN]  Epoch [10/25]   Loss: 4.7799\n",
            "[VAL]  Epoch [10/25]   Loss: 4.6431\n",
            "[TRAIN]  Epoch [11/25]   Loss: 4.6686\n",
            "[VAL]  Epoch [11/25]   Loss: 4.6375\n",
            "[TRAIN]  Epoch [12/25]   Loss: 4.5701\n",
            "[VAL]  Epoch [12/25]   Loss: 4.5237\n",
            "Saving model, predictions and generated output for epoch 10 with NLL: 4.5237236\n",
            "[TRAIN]  Epoch [13/25]   Loss: 4.4854\n",
            "[VAL]  Epoch [13/25]   Loss: 4.5484\n",
            "[TRAIN]  Epoch [14/25]   Loss: 4.4046\n",
            "[VAL]  Epoch [14/25]   Loss: 4.5085\n",
            "Saving model, predictions and generated output for epoch 12 with NLL: 4.508494\n",
            "[TRAIN]  Epoch [15/25]   Loss: 4.3320\n",
            "[VAL]  Epoch [15/25]   Loss: 4.5259\n",
            "[TRAIN]  Epoch [16/25]   Loss: 4.2689\n",
            "[VAL]  Epoch [16/25]   Loss: 4.5564\n",
            "[TRAIN]  Epoch [17/25]   Loss: 4.2091\n",
            "[VAL]  Epoch [17/25]   Loss: 4.6333\n",
            "[TRAIN]  Epoch [18/25]   Loss: 4.1587\n",
            "[VAL]  Epoch [18/25]   Loss: 4.4882\n",
            "Saving model, predictions and generated output for epoch 16 with NLL: 4.4882402\n",
            "[TRAIN]  Epoch [19/25]   Loss: 4.1070\n",
            "[VAL]  Epoch [19/25]   Loss: 4.5139\n",
            "[TRAIN]  Epoch [20/25]   Loss: 4.0573\n",
            "[VAL]  Epoch [20/25]   Loss: 4.5262\n",
            "[TRAIN]  Epoch [21/25]   Loss: 4.0101\n",
            "[VAL]  Epoch [21/25]   Loss: 4.4977\n",
            "[TRAIN]  Epoch [22/25]   Loss: 3.9708\n",
            "[VAL]  Epoch [22/25]   Loss: 4.5261\n",
            "[TRAIN]  Epoch [23/25]   Loss: 3.9327\n",
            "[VAL]  Epoch [23/25]   Loss: 4.5449\n",
            "[TRAIN]  Epoch [24/25]   Loss: 3.8917\n",
            "[VAL]  Epoch [24/25]   Loss: 4.4954\n",
            "[TRAIN]  Epoch [25/25]   Loss: 3.8562\n",
            "[VAL]  Epoch [25/25]   Loss: 4.5403\n",
            "[TRAIN]  Epoch [26/25]   Loss: 3.8242\n",
            "[VAL]  Epoch [26/25]   Loss: 4.5239\n"
          ]
        }
      ],
      "source": [
        "best_nll = 1e30 \n",
        "for epoch in range(NUM_EPOCHS):\n",
        "    trainer.train()\n",
        "    nll = trainer.test()\n",
        "    if nll < best_nll:\n",
        "        best_nll = nll\n",
        "        print(\"Saving model, predictions and generated output for epoch \"+str(epoch)+\" with NLL: \"+ str(best_nll))\n",
        "        trainer.save()\n",
        "    "
      ]
    },
    {
      "cell_type": "code",
      "execution_count": null,
      "metadata": {
        "id": "iJUi1SGeWeEH"
      },
      "outputs": [],
      "source": [
        "train_losses = [i.cpu().item() for i in trainer.train_losses]"
      ]
    },
    {
      "cell_type": "code",
      "execution_count": null,
      "metadata": {
        "colab": {
          "base_uri": "https://localhost:8080/"
        },
        "id": "A_Foe2NNWmzC",
        "outputId": "1d3595df-5db0-4acf-8c5a-d8a36876f4f0"
      },
      "outputs": [
        {
          "data": {
            "text/plain": [
              "[7.297083854675293,\n",
              " 6.232972621917725,\n",
              " 5.831674575805664,\n",
              " 5.571553707122803,\n",
              " 5.361859321594238,\n",
              " 5.189429759979248,\n",
              " 5.031527042388916,\n",
              " 4.896214962005615,\n",
              " 4.779944896697998,\n",
              " 4.668581962585449,\n",
              " 4.5700578689575195,\n",
              " 4.485433578491211,\n",
              " 4.404641151428223,\n",
              " 4.331961154937744,\n",
              " 4.268939018249512,\n",
              " 4.209073543548584,\n",
              " 4.158695220947266,\n",
              " 4.107037544250488,\n",
              " 4.05729341506958,\n",
              " 4.010082244873047,\n",
              " 3.970776319503784,\n",
              " 3.9326627254486084,\n",
              " 3.891695022583008,\n",
              " 3.8562068939208984,\n",
              " 3.8241639137268066]"
            ]
          },
          "execution_count": 32,
          "metadata": {},
          "output_type": "execute_result"
        }
      ],
      "source": [
        "train_losses"
      ]
    },
    {
      "cell_type": "code",
      "execution_count": null,
      "metadata": {
        "colab": {
          "base_uri": "https://localhost:8080/",
          "height": 278
        },
        "id": "z2FmDqBCSwRf",
        "outputId": "f9cf3af0-2680-412a-aec1-795d78aa5b38"
      },
      "outputs": [
        {
          "data": {
            "image/png": "[encoded data removed]",
            "text/plain": [
              "<Figure size 432x288 with 1 Axes>"
            ]
          },
          "metadata": {
            "needs_background": "light"
          },
          "output_type": "display_data"
        }
      ],
      "source": [
        "\n",
        "# plot training curves\n",
        "plt.figure()\n",
        "plt.plot(range(1, trainer.epochs + 1), train_losses, label='Training losses')\n",
        "plt.plot(range(1, trainer.epochs + 1), trainer.val_losses, label='Validation losses')\n",
        "plt.xlabel('Epochs')\n",
        "plt.ylabel('NLL')\n",
        "plt.legend()\n",
        "plt.show()"
      ]
    },
    {
      "cell_type": "code",
      "execution_count": null,
      "metadata": {
        "colab": {
          "base_uri": "https://localhost:8080/"
        },
        "id": "ipdbmqaGSwRh",
        "outputId": "c3c23edd-d9a7-4220-abca-009692c018ba"
      },
      "outputs": [
        {
          "name": "stdout",
          "output_type": "stream",
          "text": [
            "Input | Output #0: while the group was en route , but only three were ultimately able to attack . None of them were | not to be a few of the two other than\n",
            "Input | Output #1: <unk> , where he remained on loan until 30 June 2010 . <eol> = = = Return to Manchester United | States for a <unk> of the <unk> in the <unk>\n",
            "Input | Output #2: 25 April 2013 , denoting shipments of 500 @,@ 000 copies . <eol> The song became One Direction 's fourth | single @-@ not the Republic of the network @-@ out\n",
            "Input | Output #3: , and Bruce R. ) one daughter ( Wendy J. <unk> ) and two grandchildren , died in <unk> , | and <unk> . <eol> In the <unk> of the <unk>\n",
            "Input | Output #4: Warrior were examples of this type . Because their armor was so heavy , they could only carry a single | @-@ <unk> . This , and the two other <unk>\n",
            "Input | Output #5: the embassy at 1 : 49 and landed on Guam at 2 : 23 ; twenty minutes later , Ambassador | <unk> of the two other than the <unk> in the\n",
            "Input | Output #6: <unk> , $ 96 million USD ) . Damage was heaviest in South Korea , notably where it moved ashore | . In the <unk> @-@ <unk> @-@ <unk> @-@ <unk>\n",
            "Input | Output #7: The <unk> were condemned as <unk> by <unk> , who saw the riots as hampering attempts to resolve the situation | . <unk> , and <unk> , and <unk> , and\n",
            "Input | Output #8: by a decision made by the War Office in mid @-@ 1941 , as it was considering the equipment to | be a new <unk> the <unk> of the <unk> in\n",
            "Input | Output #9: Division crossed the <unk> at a number of places and climbed the hills quietly toward the 9th Infantry river line | . <unk> , the <unk> , and <unk> and two\n",
            "Input | Output #10: = <eol> = = = French VIII . Corps ( Corps <unk> ) = = = <eol> On 6 November | 2016 in a <unk> of the <unk> of the Jin\n",
            "Input | Output #11: of the World from 9th Avenue \" . This is regarded as his most famous work . It is considered | a second @-@ in the <unk> in the <unk> ,\n",
            "Input | Output #12: — <unk> @-@ 10 , <unk> @-@ 12 , <unk> @-@ 16 , <unk> @-@ 17 — were all converted | to be a new <unk> a new <unk> a new\n",
            "Input | Output #13: And now he has . \" <eol> = = Family = = <eol> <unk> lived 37 of his years in | the <unk> of the <unk> in the <unk> in the\n",
            "Input | Output #14: Hell to which he has been condemned for <unk> . Eliot , in a letter to John <unk> dated 27 | March a <unk> of the <unk> of the <unk> in\n",
            "Input | Output #15: Luoyang area , fulfilling his duties in domestic affairs . <eol> In the autumn of <unk> , he met Li | <unk> of the Jin in the Jin in the Jin\n",
            "Input | Output #16: Power said they enjoyed Block Ball and its number of stages , but wondered how its eight <unk> of memory | are the <unk> . In the <unk> , and <unk>\n",
            "Input | Output #17: by Lloyd F. Lonergan . The cameraman was Jacques <unk> . <eol> = = Release and reception = = <eol> | In the <unk> , and <unk> @-@ <unk> in a\n",
            "Input | Output #18: alone , the Austrians lost more than half their reserve artillery park , 6 @,@ 000 ( out of 8 | @,@ <unk> with the <unk> of the <unk> in the\n",
            "Input | Output #19: while attacking a ship at <unk> in the Dutch East Indies ; the loss was compounded by the fact that | the <unk> of the <unk> of the <unk> in the\n",
            "Input | Output #20: first raised in 2007 by the member of parliament ( MP ) for <unk> . The gangsters may have run | in the <unk> in a new <unk> a new <unk>\n",
            "Input | Output #21: Species are also non @-@ spiny <unk> and includes both large trees with stout stems up to 30 metres ( | 66 . <unk> of the <unk> of the <unk> of\n",
            "Input | Output #22: \" : specific design issues with the building 's energy efficiency included the fact that the largest room in the | world @-@ <unk> <unk> and <unk> . It 's <unk>\n",
            "Input | Output #23: were reported to support over 300 @,@ 000 households in the Brazilian state of <unk> in 2005 , and in | the <unk> in the <unk> in the <unk> in the\n",
            "Input | Output #24: port . <unk> in Vietnam also warned for the potential of heavy rainfall due to the dissipating Tropical Depression <unk> | , the storm in the storm of the storm of\n",
            "Input | Output #25: T @-@ numbers in their tropical cyclone products . The following example is from discussion number 3 of Tropical Depression | Twenty @-@ a <unk> of the <unk> in the <unk>\n",
            "Input | Output #26: South Australia hosted the three @-@ game semi @-@ final series against the New South Wales <unk> . Both teams | have the team , and <unk> , and <unk> in\n",
            "Input | Output #27: Perth from contention and secured the last finals spot for the <unk> . <eol> = = = Statistical leaders = | = = = = = = = = = =\n",
            "Input | Output #28: deemed it an \" amazing pop song \" , lauding the group 's falsetto and its \" head @-@ <unk> | \" . \" <unk> , and <unk> , and <unk>\n",
            "Input | Output #29: , but began patrolling the English Channel after <unk> @-@ 6 pioneered a route past British <unk> nets and mines | . They had a new <unk> <unk> in the <unk>\n",
            "Input | Output #30: production executives to let him direct . He had already discussed the film with <unk> and Cohen , and felt | that was the production of the film in a new\n",
            "Input | Output #31: and Nick <unk> at Studio <unk> in Los Angeles , California , and was released on August 1 , 2006 | . In the album of the album , and <unk>\n",
            "\n"
          ]
        }
      ],
      "source": [
        "# see generated output\n",
        "print (trainer.generated[-1]) # get last generated output"
      ]
    },
    {
      "cell_type": "code",
      "execution_count": null,
      "metadata": {
        "id": "Fm1huQ41XrYo"
      },
      "outputs": [],
      "source": []
    }
  ],
  "metadata": {
    "accelerator": "GPU",
    "colab": {
      "provenance": [],
      "toc_visible": true
    },
    "kernelspec": {
      "display_name": "Python 3",
      "language": "python",
      "name": "python3"
    },
    "language_info": {
      "codemirror_mode": {
        "name": "ipython",
        "version": 3
      },
      "file_extension": ".py",
      "mimetype": "text/x-python",
      "name": "python",
      "nbconvert_exporter": "python",
      "pygments_lexer": "ipython3",
      "version": "3.7.6"
    }
  },
  "nbformat": 4,
  "nbformat_minor": 0
}
